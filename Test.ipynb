{
 "cells": [
  {
   "cell_type": "markdown",
   "id": "246db504-3b1d-4a92-a7a7-1624be6e288a",
   "metadata": {},
   "source": [
    "## Import Required Libraries"
   ]
  },
  {
   "cell_type": "code",
   "execution_count": 1,
   "id": "e6567e4d-06ce-4fd6-b700-e72e1e9c7544",
   "metadata": {},
   "outputs": [],
   "source": [
    "import numpy as np\n",
    "import pandas as pd\n",
    "import joblib\n",
    "from collections import Counter\n",
    "from sklearn.metrics import classification_report, balanced_accuracy_score, confusion_matrix\n",
    "import seaborn as sns\n",
    "import matplotlib.pyplot as plt"
   ]
  },
  {
   "cell_type": "markdown",
   "id": "32271335-6ba1-43a5-a552-4cf082c5d8fe",
   "metadata": {},
   "source": [
    "## Load The Model & Scaler & Threshold"
   ]
  },
  {
   "cell_type": "code",
   "execution_count": 2,
   "id": "decc44d0-ad1b-4687-b5cd-4ca1def34e15",
   "metadata": {},
   "outputs": [
    {
     "name": "stdout",
     "output_type": "stream",
     "text": [
      "✅ Final thresholds saved successfully!\n"
     ]
    }
   ],
   "source": [
    "# Final optimized thresholds\n",
    "final_thresholds = [0.30, 0.30, 0.38, 0.38, 0.72]  \n",
    "\n",
    "# Save thresholds\n",
    "joblib.dump(final_thresholds, \"final_thresholds.pkl\")\n",
    "\n",
    "print(\"✅ Final thresholds saved successfully!\")"
   ]
  },
  {
   "cell_type": "code",
   "execution_count": 3,
   "id": "03476c3e-cd29-4d60-bbe4-38efcdf83d98",
   "metadata": {},
   "outputs": [
    {
     "name": "stdout",
     "output_type": "stream",
     "text": [
      "Model, scaler, and thresholds loaded successfully!\n"
     ]
    }
   ],
   "source": [
    "# Load the trained CatBoost model (latest version)\n",
    "catb = joblib.load(\"catboost_model.pkl\")\n",
    "\n",
    "# Load the final optimized thresholds\n",
    "final_thresholds = joblib.load(\"final_thresholds.pkl\")\n",
    "\n",
    "# Load the scaler (used during training)\n",
    "scaler = joblib.load(\"scaler.pkl\")\n",
    "\n",
    "print(\"Model, scaler, and thresholds loaded successfully!\")"
   ]
  },
  {
   "cell_type": "markdown",
   "id": "e8b7a05c-4fcc-4cf5-a7cf-776485716d52",
   "metadata": {},
   "source": [
    "## Load & Preprocess Test Data"
   ]
  },
  {
   "cell_type": "code",
   "execution_count": 4,
   "id": "736c2126-a9aa-41c3-a1ed-fde94c0aaf27",
   "metadata": {},
   "outputs": [
    {
     "name": "stdout",
     "output_type": "stream",
     "text": [
      "✅ Test data loaded and scaled successfully!\n"
     ]
    },
    {
     "name": "stderr",
     "output_type": "stream",
     "text": [
      "C:\\Users\\singh\\AppData\\Local\\Temp\\ipykernel_20096\\1998258650.py:8: FutureWarning: A value is trying to be set on a copy of a DataFrame or Series through chained assignment using an inplace method.\n",
      "The behavior will change in pandas 3.0. This inplace method will never work because the intermediate object on which we are setting values always behaves as a copy.\n",
      "\n",
      "For example, when doing 'df[col].method(value, inplace=True)', try using 'df.method({col: value}, inplace=True)' or df[col] = df[col].method(value) instead, to perform the operation inplace on the original object.\n",
      "\n",
      "\n",
      "  df_test[\"Failure Type\"].replace({\n",
      "C:\\Users\\singh\\AppData\\Local\\Temp\\ipykernel_20096\\1998258650.py:8: FutureWarning: Downcasting behavior in `replace` is deprecated and will be removed in a future version. To retain the old behavior, explicitly call `result.infer_objects(copy=False)`. To opt-in to the future behavior, set `pd.set_option('future.no_silent_downcasting', True)`\n",
      "  df_test[\"Failure Type\"].replace({\n",
      "C:\\Users\\singh\\AppData\\Local\\Temp\\ipykernel_20096\\1998258650.py:13: FutureWarning: A value is trying to be set on a copy of a DataFrame or Series through chained assignment using an inplace method.\n",
      "The behavior will change in pandas 3.0. This inplace method will never work because the intermediate object on which we are setting values always behaves as a copy.\n",
      "\n",
      "For example, when doing 'df[col].method(value, inplace=True)', try using 'df.method({col: value}, inplace=True)' or df[col] = df[col].method(value) instead, to perform the operation inplace on the original object.\n",
      "\n",
      "\n",
      "  df_test[\"Type\"].replace({\"H\": 0, \"L\": 1, \"M\": 2}, inplace=True)\n",
      "C:\\Users\\singh\\AppData\\Local\\Temp\\ipykernel_20096\\1998258650.py:13: FutureWarning: Downcasting behavior in `replace` is deprecated and will be removed in a future version. To retain the old behavior, explicitly call `result.infer_objects(copy=False)`. To opt-in to the future behavior, set `pd.set_option('future.no_silent_downcasting', True)`\n",
      "  df_test[\"Type\"].replace({\"H\": 0, \"L\": 1, \"M\": 2}, inplace=True)\n"
     ]
    }
   ],
   "source": [
    "# Load test dataset\n",
    "df_test = pd.read_csv(\"predictive_maintenance.csv\")\n",
    "\n",
    "# Drop unnecessary columns to match training features\n",
    "df_test.drop(['Product ID', 'UDI', 'Target'], axis=1, inplace=True)\n",
    "\n",
    "# Encode categorical variables\n",
    "df_test[\"Failure Type\"].replace({\n",
    "    \"No Failure\": 0, \"Heat Dissipation Failure\": 1, \"Power Failure\": 2,\n",
    "    \"Overstrain Failure\": 3, \"Tool Wear Failure\": 4, \"Random Failures\": 5\n",
    "}, inplace=True)\n",
    "\n",
    "df_test[\"Type\"].replace({\"H\": 0, \"L\": 1, \"M\": 2}, inplace=True)\n",
    "\n",
    "# Define features (X) and labels (y)\n",
    "X_test = df_test.drop(columns=[\"Failure Type\"])\n",
    "y_test = df_test[\"Failure Type\"]\n",
    "\n",
    "# Scale test features\n",
    "X_test_scaled = scaler.transform(X_test)\n",
    "\n",
    "print(\"✅ Test data loaded and scaled successfully!\")"
   ]
  },
  {
   "cell_type": "markdown",
   "id": "36530f03-74d1-46b1-9f6c-f7c7b61722a9",
   "metadata": {},
   "source": [
    "## Model Predictions with Thresholds"
   ]
  },
  {
   "cell_type": "code",
   "execution_count": 5,
   "id": "9e4e1655-7e02-429f-8d75-6da22f491e83",
   "metadata": {},
   "outputs": [
    {
     "name": "stdout",
     "output_type": "stream",
     "text": [
      "✅ Final Prediction Distribution: Counter({np.int64(0): 5552, np.int64(5): 2506, np.int64(4): 872, np.int64(1): 527, np.int64(2): 272, np.int64(3): 271})\n"
     ]
    }
   ],
   "source": [
    "# Get probability predictions from the model\n",
    "test_pred_proba = catb.predict_proba(X_test_scaled)\n",
    "\n",
    "# Create a new prediction array (default: \"No Failure\" (0))\n",
    "test_pred_adjusted = np.zeros(len(test_pred_proba), dtype=int)\n",
    "\n",
    "# Apply optimized thresholds\n",
    "for i in range(5):  \n",
    "    test_pred_adjusted[test_pred_proba[:, i+1] > final_thresholds[i]] = i + 1\n",
    "\n",
    "# Print prediction distribution\n",
    "test_prediction_counts_adjusted = Counter(test_pred_adjusted)\n",
    "print(\"✅ Final Prediction Distribution:\", test_prediction_counts_adjusted)"
   ]
  },
  {
   "cell_type": "markdown",
   "id": "041acf16-445f-41af-a8b2-b9677483a306",
   "metadata": {},
   "source": [
    "## Normal Operating Ranges for Machine Features"
   ]
  },
  {
   "cell_type": "raw",
   "id": "515e6ef5-3d75-43af-a472-d6124b06bc45",
   "metadata": {},
   "source": [
    "1️⃣ Machine Type (Type)\n",
    "\n",
    "0 → Heavy Machine (H)\n",
    "1 → Light Machine (L)\n",
    "2 → Medium Machine (M)\n",
    "\n",
    "\n",
    "2️⃣ Air Temperature (Air temperature [K])\n",
    "\n",
    "Normal Range: 295K - 305K\n",
    "High (Risk of Failure): > 310K\n",
    "\n",
    "\n",
    "3️⃣ Process Temperature (Process temperature [K])\n",
    "\n",
    "Normal Range: 305K - 315K\n",
    "High (Risk of Failure): > 320K\n",
    "\n",
    "\n",
    "4️⃣ Rotational Speed (Rotational speed [rpm])\n",
    "\n",
    "Normal Range: 1400 - 1600 rpm\n",
    "Low (Risk of Failure): < 1200 rpm\n",
    "\n",
    "\n",
    "5️⃣ Torque (Torque [Nm])\n",
    "\n",
    "Normal Range: 30 - 50 Nm\n",
    "High Load (Risk of Failure): > 60 Nm\n",
    "\n",
    "\n",
    "6️⃣ Tool Wear (Tool wear [min])\n",
    "\n",
    "Normal Wear: 0 - 20 min\n",
    "Severe Wear (Risk of Failure): > 50 min\n"
   ]
  },
  {
   "cell_type": "markdown",
   "id": "3386fd6f-8ad2-49cb-8dae-c748d71b1603",
   "metadata": {},
   "source": [
    "## Failure Type Mapping"
   ]
  },
  {
   "cell_type": "code",
   "execution_count": 6,
   "id": "1a43ca91-dd48-434c-a09e-b2a452364ee3",
   "metadata": {},
   "outputs": [],
   "source": [
    "# Failure type mapping\n",
    "failure_mapping = {\n",
    "    0: \"No Failure\",\n",
    "    1: \"Heat Dissipation Failure\",\n",
    "    2: \"Power Failure\",\n",
    "    3: \"Tool Wear Failure\",\n",
    "    4: \"Overstrain Failure\",\n",
    "    5: \"Random Failures\"\n",
    "}\n",
    "# Defining column names (same as training features)\n",
    "feature_columns = ['Type', 'Air temperature [K]', 'Process temperature [K]', \n",
    "                   'Rotational speed [rpm]', 'Torque [Nm]', 'Tool wear [min]']"
   ]
  },
  {
   "cell_type": "markdown",
   "id": "b7f2cde1-8646-4417-83b6-97671609df4a",
   "metadata": {},
   "source": [
    "## Testing Predifined Safe Case"
   ]
  },
  {
   "cell_type": "code",
   "execution_count": 7,
   "id": "1fc1256c-c427-493f-b603-73b27a44fe31",
   "metadata": {},
   "outputs": [
    {
     "name": "stdout",
     "output_type": "stream",
     "text": [
      "Prediction: No Failure\n"
     ]
    }
   ],
   "source": [
    "# Safe Case Test\n",
    "safe_case = pd.DataFrame([[1, 298.1, 308.6, 1500, 40.0, 5.0]], columns=feature_columns)\n",
    "safe_case_scaled = scaler.transform(safe_case)\n",
    "\n",
    "safe_pred_proba = catb.predict_proba(safe_case_scaled)\n",
    "safe_pred = 0\n",
    "for i in range(5):\n",
    "    if safe_pred_proba[0, i+1] > final_thresholds[i]:\n",
    "        safe_pred = i + 1\n",
    "\n",
    "print(\"Prediction:\", failure_mapping[safe_pred])"
   ]
  },
  {
   "cell_type": "markdown",
   "id": "adef1f66-c83a-4a0b-b582-511601597489",
   "metadata": {},
   "source": [
    "## Testing Predifined Failure Case"
   ]
  },
  {
   "cell_type": "code",
   "execution_count": 8,
   "id": "a234bed1-21d5-437b-bae0-65c03b9b7e9c",
   "metadata": {},
   "outputs": [
    {
     "name": "stdout",
     "output_type": "stream",
     "text": [
      "Prediction: Heat Dissipation Failure\n"
     ]
    }
   ],
   "source": [
    "# Fail Case Test\n",
    "failure_case = pd.DataFrame([[2, 310, 320, 1000, 60, 50]], columns=feature_columns)\n",
    "\n",
    "# Scale the input\n",
    "failure_case_scaled = scaler.transform(failure_case)\n",
    "\n",
    "# Get probability predictions\n",
    "failure_pred_proba = catb.predict_proba(failure_case_scaled)\n",
    "\n",
    "# Apply optimized thresholds\n",
    "failure_pred = 0\n",
    "for i in range(5):\n",
    "    if failure_pred_proba[0, i+1] > final_thresholds[i]:\n",
    "        failure_pred = i + 1\n",
    "\n",
    "# Print final mapped prediction\n",
    "print(\"Prediction:\", failure_mapping[failure_pred])"
   ]
  },
  {
   "cell_type": "code",
   "execution_count": 9,
   "id": "ae6c8be5-8361-4d78-a372-f9867dfab2a5",
   "metadata": {},
   "outputs": [
    {
     "name": "stdout",
     "output_type": "stream",
     "text": [
      "Prediction: Tool Wear Failure\n"
     ]
    }
   ],
   "source": [
    "#Failure Case Test\n",
    "failure_case = pd.DataFrame([[2, 310, 320, 1000, 60, 200]], columns=feature_columns)\n",
    "\n",
    "# Scale the input\n",
    "failure_case_scaled = scaler.transform(failure_case)\n",
    "\n",
    "# Get probability predictions\n",
    "failure_pred_proba = catb.predict_proba(failure_case_scaled)\n",
    "\n",
    "# Apply optimized thresholds\n",
    "failure_pred = 0\n",
    "for i in range(5):\n",
    "    if failure_pred_proba[0, i+1] > final_thresholds[i]:\n",
    "        failure_pred = i + 1\n",
    "\n",
    "# Print final mapped prediction\n",
    "print(\"Prediction:\", failure_mapping[failure_pred])"
   ]
  },
  {
   "cell_type": "markdown",
   "id": "4dcea607-b550-4235-8932-7ee9cf839f53",
   "metadata": {},
   "source": [
    "## Custom Input Test"
   ]
  },
  {
   "cell_type": "code",
   "execution_count": null,
   "id": "db014bb4-d7f6-4c16-b02d-f74306542214",
   "metadata": {},
   "outputs": [
    {
     "name": "stdin",
     "output_type": "stream",
     "text": [
      "Machine Type (0=H, 1=L, 2=M):  1\n",
      "Air Temperature [K]:  300\n",
      "Process Temperature [K]:  310\n"
     ]
    }
   ],
   "source": [
    "# Function to test model with custom values\n",
    "def predict_custom():\n",
    "    machine_type = int(input(\"Machine Type (0=H, 1=L, 2=M): \"))\n",
    "    air_temp = float(input(\"Air Temperature [K]: \"))\n",
    "    process_temp = float(input(\"Process Temperature [K]: \"))\n",
    "    rotational_speed = float(input(\"Rotational Speed [rpm]: \"))\n",
    "    torque = float(input(\"Torque [Nm]: \"))\n",
    "    tool_wear = float(input(\"Tool Wear [min]: \"))\n",
    "\n",
    "    # Format input as DataFrame (to match feature names)\n",
    "    sample_input = pd.DataFrame([[machine_type, air_temp, process_temp, rotational_speed, torque, tool_wear]],\n",
    "                                columns=feature_columns)\n",
    "\n",
    "    # Scale the input\n",
    "    sample_input_scaled = scaler.transform(sample_input)\n",
    "\n",
    "    # Get probability predictions\n",
    "    sample_proba = catb.predict_proba(sample_input_scaled)\n",
    "\n",
    "    # Apply optimized thresholds\n",
    "    sample_pred = 0  # Default to \"No Failure\"\n",
    "    for i in range(5):\n",
    "        if sample_proba[0, i+1] > final_thresholds[i]:\n",
    "            sample_pred = i + 1\n",
    "\n",
    "    print(\"\\n🔹 *Predicted Failure Type:*\", failure_mapping[sample_pred])\n",
    "\n",
    "# Run the function for custom input\n",
    "predict_custom()"
   ]
  },
  {
   "cell_type": "markdown",
   "id": "fd4ddbfd-2afa-4d65-92e7-45ee46df041f",
   "metadata": {},
   "source": [
    "## Model Evaluation"
   ]
  },
  {
   "cell_type": "code",
   "execution_count": 12,
   "id": "afc520a5-b373-42f9-8f01-a509b4536e83",
   "metadata": {},
   "outputs": [
    {
     "name": "stdout",
     "output_type": "stream",
     "text": [
      "\n",
      "🔹 Updated Classification Report:\n",
      "               precision    recall  f1-score   support\n",
      "\n",
      "           0       1.00      0.58      0.73      9652\n",
      "           1       0.21      0.99      0.35       112\n",
      "           2       0.35      0.99      0.51        95\n",
      "           3       0.28      0.96      0.43        78\n",
      "           4       0.05      0.91      0.09        45\n",
      "           5       0.01      0.78      0.01        18\n",
      "\n",
      "    accuracy                           0.59     10000\n",
      "   macro avg       0.31      0.87      0.35     10000\n",
      "weighted avg       0.97      0.59      0.72     10000\n",
      "\n",
      "\n",
      "✅ Balanced Accuracy Score: 86.77%\n"
     ]
    }
   ],
   "source": [
    "# Print classification report\n",
    "print(\"\\n🔹 Updated Classification Report:\\n\", classification_report(y_test, test_pred_adjusted))\n",
    "\n",
    "# Calculate balanced accuracy score\n",
    "balanced_acc = balanced_accuracy_score(y_test, test_pred_adjusted)\n",
    "\n",
    "# Convert accuracy to percentage\n",
    "accuracy_percentage = balanced_acc * 100\n",
    "\n",
    "print(f\"\\n✅ Balanced Accuracy Score: {accuracy_percentage:.2f}%\")"
   ]
  },
  {
   "cell_type": "code",
   "execution_count": 13,
   "id": "b7302398-e654-42b0-a65e-4c48e39e4a22",
   "metadata": {},
   "outputs": [
    {
     "data": {
      "image/png": "[encoded data removed]",
      "text/plain": [
       "<Figure size 800x600 with 2 Axes>"
      ]
     },
     "metadata": {},
     "output_type": "display_data"
    }
   ],
   "source": [
    "# Plot confusion matrix\n",
    "plt.figure(figsize=(8, 6))\n",
    "sns.heatmap(confusion_matrix(y_test, test_pred_adjusted), annot=True, fmt=\"d\", cmap=\"Blues\", \n",
    "            xticklabels=failure_mapping.values(), yticklabels=failure_mapping.values())\n",
    "\n",
    "plt.xlabel(\"Predicted\")\n",
    "plt.ylabel(\"Actual\")\n",
    "plt.title(\"Confusion Matrix\")\n",
    "plt.show()"
   ]
  },
  {
   "cell_type": "markdown",
   "id": "542f768c-9b6c-4f01-bc84-3713b395ca18",
   "metadata": {},
   "source": [
    "## Saving Final Model, Scaler and Thresholds"
   ]
  },
  {
   "cell_type": "code",
   "execution_count": 14,
   "id": "c48f2704-5fe6-44bf-ad29-70651a34de46",
   "metadata": {},
   "outputs": [
    {
     "name": "stdout",
     "output_type": "stream",
     "text": [
      "✅ Model, scaler & thresholds saved successfully!\n"
     ]
    }
   ],
   "source": [
    "import joblib\n",
    "\n",
    "# Save the trained model\n",
    "joblib.dump(catb, \"final_catboost_model.pkl\")\n",
    "\n",
    "# Save the final thresholds\n",
    "joblib.dump(final_thresholds, \"final_thresholds.pkl\")\n",
    "\n",
    "# Save the scaler\n",
    "joblib.dump(scaler, \"final_scaler.pkl\")  # ✅ FIXED: Save the scaler too\n",
    "\n",
    "print(\"✅ Model, scaler & thresholds saved successfully!\")"
   ]
  }
 ],
 "metadata": {
  "kernelspec": {
   "display_name": "Python 3 (ipykernel)",
   "language": "python",
   "name": "python3"
  },
  "language_info": {
   "codemirror_mode": {
    "name": "ipython",
    "version": 3
   },
   "file_extension": ".py",
   "mimetype": "text/x-python",
   "name": "python",
   "nbconvert_exporter": "python",
   "pygments_lexer": "ipython3",
   "version": "3.12.4"
  }
 },
 "nbformat": 4,
 "nbformat_minor": 5
}
